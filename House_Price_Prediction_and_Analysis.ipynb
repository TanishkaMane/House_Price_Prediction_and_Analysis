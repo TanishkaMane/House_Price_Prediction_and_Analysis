{
  "nbformat": 4,
  "nbformat_minor": 0,
  "metadata": {
    "colab": {
      "provenance": []
    },
    "kernelspec": {
      "name": "python3",
      "display_name": "Python 3"
    },
    "language_info": {
      "name": "python"
    }
  },
  "cells": [
    {
      "cell_type": "markdown",
      "source": [
        "*************************************************************\n",
        "# Data Preprocessing\n",
        "*************************************************************"
      ],
      "metadata": {
        "id": "CjS1nRTfNsmR"
      }
    },
    {
      "cell_type": "markdown",
      "source": [
        "1.1 Load the \"house-prices.csv\" dataset into a Pandas DataFrame:"
      ],
      "metadata": {
        "id": "WimA5DnDNj1A"
      }
    },
    {
      "cell_type": "code",
      "execution_count": null,
      "metadata": {
        "id": "kTj4J8JB9YV3"
      },
      "outputs": [],
      "source": [
        "import pandas as pd\n",
        "\n",
        "# Loading the CSV file into a DataFrame\n",
        "df = pd.read_csv('house_prices.csv')\n"
      ]
    },
    {
      "cell_type": "markdown",
      "source": [
        "1.2 Perform data cleaning, including handling missing values, outliers, and duplicates:"
      ],
      "metadata": {
        "id": "5Lif9w7fNfS9"
      }
    },
    {
      "cell_type": "code",
      "source": [
        "#  check for missing values in the DataFrame\n",
        "df.isnull().sum()\n",
        "# Check for and remove duplicate rows using\n",
        "df.drop_duplicates()"
      ],
      "metadata": {
        "id": "otT-AGchLPbU",
        "colab": {
          "base_uri": "https://localhost:8080/",
          "height": 424
        },
        "outputId": "076c867e-1ddf-4a4e-e42a-65dac752055b"
      },
      "execution_count": null,
      "outputs": [
        {
          "output_type": "execute_result",
          "data": {
            "text/plain": [
              "     Home   Price  SqFt  Bedrooms  Bathrooms  Offers Brick Neighborhood\n",
              "0       1  114300  1790         2          2       2    No         East\n",
              "1       2  114200  2030         4          2       3    No         East\n",
              "2       3  114800  1740         3          2       1    No         East\n",
              "3       4   94700  1980         3          2       3    No         East\n",
              "4       5  119800  2130         3          3       3    No         East\n",
              "..    ...     ...   ...       ...        ...     ...   ...          ...\n",
              "123   124  119700  1900         3          3       3   Yes         East\n",
              "124   125  147900  2160         4          3       3   Yes         East\n",
              "125   126  113500  2070         2          2       2    No        North\n",
              "126   127  149900  2020         3          3       1    No         West\n",
              "127   128  124600  2250         3          3       4    No        North\n",
              "\n",
              "[128 rows x 8 columns]"
            ],
            "text/html": [
              "\n",
              "  <div id=\"df-72cc6e34-f398-47bc-a5aa-1a36e2785803\" class=\"colab-df-container\">\n",
              "    <div>\n",
              "<style scoped>\n",
              "    .dataframe tbody tr th:only-of-type {\n",
              "        vertical-align: middle;\n",
              "    }\n",
              "\n",
              "    .dataframe tbody tr th {\n",
              "        vertical-align: top;\n",
              "    }\n",
              "\n",
              "    .dataframe thead th {\n",
              "        text-align: right;\n",
              "    }\n",
              "</style>\n",
              "<table border=\"1\" class=\"dataframe\">\n",
              "  <thead>\n",
              "    <tr style=\"text-align: right;\">\n",
              "      <th></th>\n",
              "      <th>Home</th>\n",
              "      <th>Price</th>\n",
              "      <th>SqFt</th>\n",
              "      <th>Bedrooms</th>\n",
              "      <th>Bathrooms</th>\n",
              "      <th>Offers</th>\n",
              "      <th>Brick</th>\n",
              "      <th>Neighborhood</th>\n",
              "    </tr>\n",
              "  </thead>\n",
              "  <tbody>\n",
              "    <tr>\n",
              "      <th>0</th>\n",
              "      <td>1</td>\n",
              "      <td>114300</td>\n",
              "      <td>1790</td>\n",
              "      <td>2</td>\n",
              "      <td>2</td>\n",
              "      <td>2</td>\n",
              "      <td>No</td>\n",
              "      <td>East</td>\n",
              "    </tr>\n",
              "    <tr>\n",
              "      <th>1</th>\n",
              "      <td>2</td>\n",
              "      <td>114200</td>\n",
              "      <td>2030</td>\n",
              "      <td>4</td>\n",
              "      <td>2</td>\n",
              "      <td>3</td>\n",
              "      <td>No</td>\n",
              "      <td>East</td>\n",
              "    </tr>\n",
              "    <tr>\n",
              "      <th>2</th>\n",
              "      <td>3</td>\n",
              "      <td>114800</td>\n",
              "      <td>1740</td>\n",
              "      <td>3</td>\n",
              "      <td>2</td>\n",
              "      <td>1</td>\n",
              "      <td>No</td>\n",
              "      <td>East</td>\n",
              "    </tr>\n",
              "    <tr>\n",
              "      <th>3</th>\n",
              "      <td>4</td>\n",
              "      <td>94700</td>\n",
              "      <td>1980</td>\n",
              "      <td>3</td>\n",
              "      <td>2</td>\n",
              "      <td>3</td>\n",
              "      <td>No</td>\n",
              "      <td>East</td>\n",
              "    </tr>\n",
              "    <tr>\n",
              "      <th>4</th>\n",
              "      <td>5</td>\n",
              "      <td>119800</td>\n",
              "      <td>2130</td>\n",
              "      <td>3</td>\n",
              "      <td>3</td>\n",
              "      <td>3</td>\n",
              "      <td>No</td>\n",
              "      <td>East</td>\n",
              "    </tr>\n",
              "    <tr>\n",
              "      <th>...</th>\n",
              "      <td>...</td>\n",
              "      <td>...</td>\n",
              "      <td>...</td>\n",
              "      <td>...</td>\n",
              "      <td>...</td>\n",
              "      <td>...</td>\n",
              "      <td>...</td>\n",
              "      <td>...</td>\n",
              "    </tr>\n",
              "    <tr>\n",
              "      <th>123</th>\n",
              "      <td>124</td>\n",
              "      <td>119700</td>\n",
              "      <td>1900</td>\n",
              "      <td>3</td>\n",
              "      <td>3</td>\n",
              "      <td>3</td>\n",
              "      <td>Yes</td>\n",
              "      <td>East</td>\n",
              "    </tr>\n",
              "    <tr>\n",
              "      <th>124</th>\n",
              "      <td>125</td>\n",
              "      <td>147900</td>\n",
              "      <td>2160</td>\n",
              "      <td>4</td>\n",
              "      <td>3</td>\n",
              "      <td>3</td>\n",
              "      <td>Yes</td>\n",
              "      <td>East</td>\n",
              "    </tr>\n",
              "    <tr>\n",
              "      <th>125</th>\n",
              "      <td>126</td>\n",
              "      <td>113500</td>\n",
              "      <td>2070</td>\n",
              "      <td>2</td>\n",
              "      <td>2</td>\n",
              "      <td>2</td>\n",
              "      <td>No</td>\n",
              "      <td>North</td>\n",
              "    </tr>\n",
              "    <tr>\n",
              "      <th>126</th>\n",
              "      <td>127</td>\n",
              "      <td>149900</td>\n",
              "      <td>2020</td>\n",
              "      <td>3</td>\n",
              "      <td>3</td>\n",
              "      <td>1</td>\n",
              "      <td>No</td>\n",
              "      <td>West</td>\n",
              "    </tr>\n",
              "    <tr>\n",
              "      <th>127</th>\n",
              "      <td>128</td>\n",
              "      <td>124600</td>\n",
              "      <td>2250</td>\n",
              "      <td>3</td>\n",
              "      <td>3</td>\n",
              "      <td>4</td>\n",
              "      <td>No</td>\n",
              "      <td>North</td>\n",
              "    </tr>\n",
              "  </tbody>\n",
              "</table>\n",
              "<p>128 rows × 8 columns</p>\n",
              "</div>\n",
              "    <div class=\"colab-df-buttons\">\n",
              "\n",
              "  <div class=\"colab-df-container\">\n",
              "    <button class=\"colab-df-convert\" onclick=\"convertToInteractive('df-72cc6e34-f398-47bc-a5aa-1a36e2785803')\"\n",
              "            title=\"Convert this dataframe to an interactive table.\"\n",
              "            style=\"display:none;\">\n",
              "\n",
              "  <svg xmlns=\"http://www.w3.org/2000/svg\" height=\"24px\" viewBox=\"0 -960 960 960\">\n",
              "    <path d=\"M120-120v-720h720v720H120Zm60-500h600v-160H180v160Zm220 220h160v-160H400v160Zm0 220h160v-160H400v160ZM180-400h160v-160H180v160Zm440 0h160v-160H620v160ZM180-180h160v-160H180v160Zm440 0h160v-160H620v160Z\"/>\n",
              "  </svg>\n",
              "    </button>\n",
              "\n",
              "  <style>\n",
              "    .colab-df-container {\n",
              "      display:flex;\n",
              "      gap: 12px;\n",
              "    }\n",
              "\n",
              "    .colab-df-convert {\n",
              "      background-color: #E8F0FE;\n",
              "      border: none;\n",
              "      border-radius: 50%;\n",
              "      cursor: pointer;\n",
              "      display: none;\n",
              "      fill: #1967D2;\n",
              "      height: 32px;\n",
              "      padding: 0 0 0 0;\n",
              "      width: 32px;\n",
              "    }\n",
              "\n",
              "    .colab-df-convert:hover {\n",
              "      background-color: #E2EBFA;\n",
              "      box-shadow: 0px 1px 2px rgba(60, 64, 67, 0.3), 0px 1px 3px 1px rgba(60, 64, 67, 0.15);\n",
              "      fill: #174EA6;\n",
              "    }\n",
              "\n",
              "    .colab-df-buttons div {\n",
              "      margin-bottom: 4px;\n",
              "    }\n",
              "\n",
              "    [theme=dark] .colab-df-convert {\n",
              "      background-color: #3B4455;\n",
              "      fill: #D2E3FC;\n",
              "    }\n",
              "\n",
              "    [theme=dark] .colab-df-convert:hover {\n",
              "      background-color: #434B5C;\n",
              "      box-shadow: 0px 1px 3px 1px rgba(0, 0, 0, 0.15);\n",
              "      filter: drop-shadow(0px 1px 2px rgba(0, 0, 0, 0.3));\n",
              "      fill: #FFFFFF;\n",
              "    }\n",
              "  </style>\n",
              "\n",
              "    <script>\n",
              "      const buttonEl =\n",
              "        document.querySelector('#df-72cc6e34-f398-47bc-a5aa-1a36e2785803 button.colab-df-convert');\n",
              "      buttonEl.style.display =\n",
              "        google.colab.kernel.accessAllowed ? 'block' : 'none';\n",
              "\n",
              "      async function convertToInteractive(key) {\n",
              "        const element = document.querySelector('#df-72cc6e34-f398-47bc-a5aa-1a36e2785803');\n",
              "        const dataTable =\n",
              "          await google.colab.kernel.invokeFunction('convertToInteractive',\n",
              "                                                    [key], {});\n",
              "        if (!dataTable) return;\n",
              "\n",
              "        const docLinkHtml = 'Like what you see? Visit the ' +\n",
              "          '<a target=\"_blank\" href=https://colab.research.google.com/notebooks/data_table.ipynb>data table notebook</a>'\n",
              "          + ' to learn more about interactive tables.';\n",
              "        element.innerHTML = '';\n",
              "        dataTable['output_type'] = 'display_data';\n",
              "        await google.colab.output.renderOutput(dataTable, element);\n",
              "        const docLink = document.createElement('div');\n",
              "        docLink.innerHTML = docLinkHtml;\n",
              "        element.appendChild(docLink);\n",
              "      }\n",
              "    </script>\n",
              "  </div>\n",
              "\n",
              "\n",
              "<div id=\"df-ef4929b6-76af-45bb-b2a3-d441049794b3\">\n",
              "  <button class=\"colab-df-quickchart\" onclick=\"quickchart('df-ef4929b6-76af-45bb-b2a3-d441049794b3')\"\n",
              "            title=\"Suggest charts.\"\n",
              "            style=\"display:none;\">\n",
              "\n",
              "<svg xmlns=\"http://www.w3.org/2000/svg\" height=\"24px\"viewBox=\"0 0 24 24\"\n",
              "     width=\"24px\">\n",
              "    <g>\n",
              "        <path d=\"M19 3H5c-1.1 0-2 .9-2 2v14c0 1.1.9 2 2 2h14c1.1 0 2-.9 2-2V5c0-1.1-.9-2-2-2zM9 17H7v-7h2v7zm4 0h-2V7h2v10zm4 0h-2v-4h2v4z\"/>\n",
              "    </g>\n",
              "</svg>\n",
              "  </button>\n",
              "\n",
              "<style>\n",
              "  .colab-df-quickchart {\n",
              "      --bg-color: #E8F0FE;\n",
              "      --fill-color: #1967D2;\n",
              "      --hover-bg-color: #E2EBFA;\n",
              "      --hover-fill-color: #174EA6;\n",
              "      --disabled-fill-color: #AAA;\n",
              "      --disabled-bg-color: #DDD;\n",
              "  }\n",
              "\n",
              "  [theme=dark] .colab-df-quickchart {\n",
              "      --bg-color: #3B4455;\n",
              "      --fill-color: #D2E3FC;\n",
              "      --hover-bg-color: #434B5C;\n",
              "      --hover-fill-color: #FFFFFF;\n",
              "      --disabled-bg-color: #3B4455;\n",
              "      --disabled-fill-color: #666;\n",
              "  }\n",
              "\n",
              "  .colab-df-quickchart {\n",
              "    background-color: var(--bg-color);\n",
              "    border: none;\n",
              "    border-radius: 50%;\n",
              "    cursor: pointer;\n",
              "    display: none;\n",
              "    fill: var(--fill-color);\n",
              "    height: 32px;\n",
              "    padding: 0;\n",
              "    width: 32px;\n",
              "  }\n",
              "\n",
              "  .colab-df-quickchart:hover {\n",
              "    background-color: var(--hover-bg-color);\n",
              "    box-shadow: 0 1px 2px rgba(60, 64, 67, 0.3), 0 1px 3px 1px rgba(60, 64, 67, 0.15);\n",
              "    fill: var(--button-hover-fill-color);\n",
              "  }\n",
              "\n",
              "  .colab-df-quickchart-complete:disabled,\n",
              "  .colab-df-quickchart-complete:disabled:hover {\n",
              "    background-color: var(--disabled-bg-color);\n",
              "    fill: var(--disabled-fill-color);\n",
              "    box-shadow: none;\n",
              "  }\n",
              "\n",
              "  .colab-df-spinner {\n",
              "    border: 2px solid var(--fill-color);\n",
              "    border-color: transparent;\n",
              "    border-bottom-color: var(--fill-color);\n",
              "    animation:\n",
              "      spin 1s steps(1) infinite;\n",
              "  }\n",
              "\n",
              "  @keyframes spin {\n",
              "    0% {\n",
              "      border-color: transparent;\n",
              "      border-bottom-color: var(--fill-color);\n",
              "      border-left-color: var(--fill-color);\n",
              "    }\n",
              "    20% {\n",
              "      border-color: transparent;\n",
              "      border-left-color: var(--fill-color);\n",
              "      border-top-color: var(--fill-color);\n",
              "    }\n",
              "    30% {\n",
              "      border-color: transparent;\n",
              "      border-left-color: var(--fill-color);\n",
              "      border-top-color: var(--fill-color);\n",
              "      border-right-color: var(--fill-color);\n",
              "    }\n",
              "    40% {\n",
              "      border-color: transparent;\n",
              "      border-right-color: var(--fill-color);\n",
              "      border-top-color: var(--fill-color);\n",
              "    }\n",
              "    60% {\n",
              "      border-color: transparent;\n",
              "      border-right-color: var(--fill-color);\n",
              "    }\n",
              "    80% {\n",
              "      border-color: transparent;\n",
              "      border-right-color: var(--fill-color);\n",
              "      border-bottom-color: var(--fill-color);\n",
              "    }\n",
              "    90% {\n",
              "      border-color: transparent;\n",
              "      border-bottom-color: var(--fill-color);\n",
              "    }\n",
              "  }\n",
              "</style>\n",
              "\n",
              "  <script>\n",
              "    async function quickchart(key) {\n",
              "      const quickchartButtonEl =\n",
              "        document.querySelector('#' + key + ' button');\n",
              "      quickchartButtonEl.disabled = true;  // To prevent multiple clicks.\n",
              "      quickchartButtonEl.classList.add('colab-df-spinner');\n",
              "      try {\n",
              "        const charts = await google.colab.kernel.invokeFunction(\n",
              "            'suggestCharts', [key], {});\n",
              "      } catch (error) {\n",
              "        console.error('Error during call to suggestCharts:', error);\n",
              "      }\n",
              "      quickchartButtonEl.classList.remove('colab-df-spinner');\n",
              "      quickchartButtonEl.classList.add('colab-df-quickchart-complete');\n",
              "    }\n",
              "    (() => {\n",
              "      let quickchartButtonEl =\n",
              "        document.querySelector('#df-ef4929b6-76af-45bb-b2a3-d441049794b3 button');\n",
              "      quickchartButtonEl.style.display =\n",
              "        google.colab.kernel.accessAllowed ? 'block' : 'none';\n",
              "    })();\n",
              "  </script>\n",
              "</div>\n",
              "    </div>\n",
              "  </div>\n"
            ]
          },
          "metadata": {},
          "execution_count": 3
        }
      ]
    },
    {
      "cell_type": "markdown",
      "source": [
        " 1.3 Encode categorical variables using one-hot encoding or label encoding:"
      ],
      "metadata": {
        "id": "LdkSskAnNavm"
      }
    },
    {
      "cell_type": "code",
      "source": [
        "df = pd.get_dummies(df, columns=['Neighborhood', 'Brick'], drop_first=True)\n",
        "print(df.shape)\n",
        "print(df.head())\n",
        "real_data = df.copy()"
      ],
      "metadata": {
        "id": "yUHYl-vJML8x",
        "colab": {
          "base_uri": "https://localhost:8080/"
        },
        "outputId": "6df4b6b3-bbd1-4a99-dc51-dd512d0994a4"
      },
      "execution_count": null,
      "outputs": [
        {
          "output_type": "stream",
          "name": "stdout",
          "text": [
            "(128, 9)\n",
            "   Home   Price  SqFt  Bedrooms  Bathrooms  Offers  Neighborhood_North  \\\n",
            "0     1  114300  1790         2          2       2                   0   \n",
            "1     2  114200  2030         4          2       3                   0   \n",
            "2     3  114800  1740         3          2       1                   0   \n",
            "3     4   94700  1980         3          2       3                   0   \n",
            "4     5  119800  2130         3          3       3                   0   \n",
            "\n",
            "   Neighborhood_West  Brick_Yes  \n",
            "0                  0          0  \n",
            "1                  0          0  \n",
            "2                  0          0  \n",
            "3                  0          0  \n",
            "4                  0          0  \n"
          ]
        }
      ]
    },
    {
      "cell_type": "markdown",
      "source": [
        "1.4 Handle numerical features, such as scaling or transformation:"
      ],
      "metadata": {
        "id": "2-Fi0rn7NUUM"
      }
    },
    {
      "cell_type": "code",
      "source": [
        "from sklearn.preprocessing import MinMaxScaler\n",
        "\n",
        "scaler = MinMaxScaler()\n",
        "df[[\"SqFt\", \"Bedrooms\", \"Bathrooms\", \"Offers\"]] = scaler.fit_transform(df[[\"SqFt\", \"Bedrooms\", \"Bathrooms\", \"Offers\"]])\n"
      ],
      "metadata": {
        "id": "2GiuPtT3Mftm"
      },
      "execution_count": null,
      "outputs": []
    },
    {
      "cell_type": "markdown",
      "source": [
        "1.5 Split the dataset into training and testing sets:"
      ],
      "metadata": {
        "id": "m-SO-bahNOuN"
      }
    },
    {
      "cell_type": "code",
      "source": [
        "from sklearn.model_selection import train_test_split\n",
        "\n",
        "X = df.drop(\"Price\", axis=1)  # Features\n",
        "y = df[\"Price\"]              # Target variable\n",
        "\n",
        "X_train, X_test, y_train, y_test = train_test_split(X, y, test_size=0.2, random_state=42)\n"
      ],
      "metadata": {
        "id": "rCN-CecDMlzl"
      },
      "execution_count": null,
      "outputs": []
    },
    {
      "cell_type": "markdown",
      "source": [
        "*************************************************************\n",
        "# Exploratory Data Analysis (EDA)\n",
        "*************************************************************"
      ],
      "metadata": {
        "id": "oV98DgSWOnXD"
      }
    },
    {
      "cell_type": "markdown",
      "source": [
        "2.1 Explore the dataset's structure and statistics:"
      ],
      "metadata": {
        "id": "x2MakoSqO2qJ"
      }
    },
    {
      "cell_type": "code",
      "source": [
        "# Explore dataset structure\n",
        "print(df.info())\n",
        "\n",
        "# Summary statistics\n",
        "print(df.describe())\n"
      ],
      "metadata": {
        "id": "Q-8a8ly6O9gz",
        "colab": {
          "base_uri": "https://localhost:8080/"
        },
        "outputId": "9ab71590-72e4-487d-aa57-2db7f2612879"
      },
      "execution_count": null,
      "outputs": [
        {
          "output_type": "stream",
          "name": "stdout",
          "text": [
            "<class 'pandas.core.frame.DataFrame'>\n",
            "RangeIndex: 128 entries, 0 to 127\n",
            "Data columns (total 9 columns):\n",
            " #   Column              Non-Null Count  Dtype  \n",
            "---  ------              --------------  -----  \n",
            " 0   Home                128 non-null    int64  \n",
            " 1   Price               128 non-null    int64  \n",
            " 2   SqFt                128 non-null    float64\n",
            " 3   Bedrooms            128 non-null    float64\n",
            " 4   Bathrooms           128 non-null    float64\n",
            " 5   Offers              128 non-null    float64\n",
            " 6   Neighborhood_North  128 non-null    uint8  \n",
            " 7   Neighborhood_West   128 non-null    uint8  \n",
            " 8   Brick_Yes           128 non-null    uint8  \n",
            "dtypes: float64(4), int64(2), uint8(3)\n",
            "memory usage: 6.5 KB\n",
            "None\n",
            "             Home          Price        SqFt    Bedrooms   Bathrooms  \\\n",
            "count  128.000000     128.000000  128.000000  128.000000  128.000000   \n",
            "mean    64.500000  130427.343750    0.483279    0.341146    0.222656   \n",
            "std     37.094474   26868.770371    0.185590    0.241984    0.257246   \n",
            "min      1.000000   69100.000000    0.000000    0.000000    0.000000   \n",
            "25%     32.750000  111325.000000    0.377193    0.333333    0.000000   \n",
            "50%     64.500000  125950.000000    0.482456    0.333333    0.000000   \n",
            "75%     96.250000  148250.000000    0.605263    0.333333    0.500000   \n",
            "max    128.000000  211200.000000    1.000000    1.000000    1.000000   \n",
            "\n",
            "           Offers  Neighborhood_North  Neighborhood_West   Brick_Yes  \n",
            "count  128.000000          128.000000         128.000000  128.000000  \n",
            "mean     0.315625            0.343750           0.304688    0.328125  \n",
            "std      0.213865            0.476825           0.462084    0.471376  \n",
            "min      0.000000            0.000000           0.000000    0.000000  \n",
            "25%      0.200000            0.000000           0.000000    0.000000  \n",
            "50%      0.400000            0.000000           0.000000    0.000000  \n",
            "75%      0.400000            1.000000           1.000000    1.000000  \n",
            "max      1.000000            1.000000           1.000000    1.000000  \n"
          ]
        }
      ]
    },
    {
      "cell_type": "markdown",
      "source": [
        "2.2 Visualize the distribution of house prices using a histogram:"
      ],
      "metadata": {
        "id": "dftPMl7ePIZC"
      }
    },
    {
      "cell_type": "code",
      "source": [
        "import matplotlib.pyplot as plt\n",
        "\n",
        "plt.hist(df['Price'], bins=20, edgecolor='k')\n",
        "plt.xlabel('House Price')\n",
        "plt.ylabel('Frequency')\n",
        "plt.title('Distribution of House Prices')\n",
        "plt.show()\n"
      ],
      "metadata": {
        "colab": {
          "base_uri": "https://localhost:8080/",
          "height": 472
        },
        "id": "la9wcC6ZPMul",
        "outputId": "848c8b75-d2d4-4fb2-df62-89cdc19d2208"
      },
      "execution_count": null,
      "outputs": [
        {
          "output_type": "display_data",
          "data": {
            "text/plain": [
              "<Figure size 640x480 with 1 Axes>"
            ],
            "image/png": "[encoded data removed]"
          },
          "metadata": {}
        }
      ]
    },
    {
      "cell_type": "markdown",
      "source": [
        "2.3 Investigate the relationships between features and house prices:"
      ],
      "metadata": {
        "id": "9S0oDStpPPmw"
      }
    },
    {
      "cell_type": "code",
      "source": [
        "# Scatter plot for a numerical feature (e.g., SqFt vs. Price)\n",
        "plt.scatter(df['SqFt'], df['Price'])\n",
        "plt.xlabel('SqFt')\n",
        "plt.ylabel('House Price')\n",
        "plt.title('SqFt vs. House Price')\n",
        "plt.show()\n",
        "\n",
        "# Correlation matrix\n",
        "correlation_matrix = df.corr()\n",
        "print(correlation_matrix)\n"
      ],
      "metadata": {
        "colab": {
          "base_uri": "https://localhost:8080/",
          "height": 837
        },
        "id": "CR48BG6SPU58",
        "outputId": "efb0d575-91cb-4e3d-c91e-a3fdb1e2c7de"
      },
      "execution_count": null,
      "outputs": [
        {
          "output_type": "display_data",
          "data": {
            "text/plain": [
              "<Figure size 640x480 with 1 Axes>"
            ],
            "image/png": "[encoded data removed]"
          },
          "metadata": {}
        },
        {
          "output_type": "stream",
          "name": "stdout",
          "text": [
            "                        Home     Price      SqFt  Bedrooms  Bathrooms  \\\n",
            "Home                1.000000  0.108190  0.168553 -0.068568   0.127694   \n",
            "Price               0.108190  1.000000  0.552982  0.525926   0.523258   \n",
            "SqFt                0.168553  0.552982  1.000000  0.483807   0.522745   \n",
            "Bedrooms           -0.068568  0.525926  0.483807  1.000000   0.414556   \n",
            "Bathrooms           0.127694  0.523258  0.522745  0.414556   1.000000   \n",
            "Offers             -0.053597 -0.313636  0.336923  0.114271   0.143793   \n",
            "Neighborhood_North  0.049859 -0.548221 -0.288886 -0.364667  -0.275830   \n",
            "Neighborhood_West   0.026873  0.714007  0.250759  0.471477   0.285923   \n",
            "Brick_Yes           0.037376  0.452817  0.079792  0.046380   0.171977   \n",
            "\n",
            "                      Offers  Neighborhood_North  Neighborhood_West  Brick_Yes  \n",
            "Home               -0.053597            0.049859           0.026873   0.037376  \n",
            "Price              -0.313636           -0.548221           0.714007   0.452817  \n",
            "SqFt                0.336923           -0.288886           0.250759   0.079792  \n",
            "Bedrooms            0.114271           -0.364667           0.471477   0.046380  \n",
            "Bathrooms           0.143793           -0.275830           0.285923   0.171977  \n",
            "Offers              1.000000            0.332987          -0.327425  -0.144986  \n",
            "Neighborhood_North  0.332987            1.000000          -0.479098  -0.260554  \n",
            "Neighborhood_West  -0.327425           -0.479098           1.000000   0.115793  \n",
            "Brick_Yes          -0.144986           -0.260554           0.115793   1.000000  \n"
          ]
        }
      ]
    },
    {
      "cell_type": "markdown",
      "source": [
        "2.4 Identify the most important features that may affect house prices:"
      ],
      "metadata": {
        "id": "RtCK8AtSPahh"
      }
    },
    {
      "cell_type": "code",
      "source": [
        "# Sort features by absolute correlation with Price\n",
        "correlation_with_price = correlation_matrix['Price'].abs().sort_values(ascending=False)\n",
        "print(correlation_with_price)\n"
      ],
      "metadata": {
        "colab": {
          "base_uri": "https://localhost:8080/"
        },
        "id": "dBVdvgY2PgI1",
        "outputId": "a4a57146-993b-4503-fa12-16537fe5c6a2"
      },
      "execution_count": null,
      "outputs": [
        {
          "output_type": "stream",
          "name": "stdout",
          "text": [
            "Price                 1.000000\n",
            "Neighborhood_West     0.714007\n",
            "SqFt                  0.552982\n",
            "Neighborhood_North    0.548221\n",
            "Bedrooms              0.525926\n",
            "Bathrooms             0.523258\n",
            "Brick_Yes             0.452817\n",
            "Offers                0.313636\n",
            "Home                  0.108190\n",
            "Name: Price, dtype: float64\n"
          ]
        }
      ]
    },
    {
      "cell_type": "markdown",
      "source": [
        "2.5 Provide insights and observations based on your EDA:"
      ],
      "metadata": {
        "id": "lsp9j-S9PjuO"
      }
    },
    {
      "cell_type": "code",
      "source": [
        "correlations_with_target = correlation_matrix['Price'].sort_values(ascending=False)\n",
        "print(\"Correlations with HousePrice:\")\n",
        "print(correlations_with_target[:])"
      ],
      "metadata": {
        "colab": {
          "base_uri": "https://localhost:8080/"
        },
        "id": "lB5irhAwP0dU",
        "outputId": "3c946b3b-022d-4158-dbc0-7e845e2bad93"
      },
      "execution_count": null,
      "outputs": [
        {
          "output_type": "stream",
          "name": "stdout",
          "text": [
            "Correlations with HousePrice:\n",
            "Price                 1.000000\n",
            "Neighborhood_West     0.714007\n",
            "SqFt                  0.552982\n",
            "Bedrooms              0.525926\n",
            "Bathrooms             0.523258\n",
            "Brick_Yes             0.452817\n",
            "Home                  0.108190\n",
            "Offers               -0.313636\n",
            "Neighborhood_North   -0.548221\n",
            "Name: Price, dtype: float64\n"
          ]
        }
      ]
    },
    {
      "cell_type": "markdown",
      "source": [
        "*************************************************************\n",
        "# Model Building\n",
        "*************************************************************"
      ],
      "metadata": {
        "id": "z9m2suZlP6yx"
      }
    },
    {
      "cell_type": "markdown",
      "source": [
        "3.1 Selecting three different machine learning algorithms suitable for regression:"
      ],
      "metadata": {
        "id": "aJM7l8MmQhDK"
      }
    },
    {
      "cell_type": "code",
      "source": [
        "from sklearn.linear_model import LinearRegression\n",
        "from sklearn.tree import DecisionTreeRegressor\n",
        "from sklearn.ensemble import RandomForestRegressor\n"
      ],
      "metadata": {
        "id": "fvo2kPf_R9sc"
      },
      "execution_count": null,
      "outputs": []
    },
    {
      "cell_type": "markdown",
      "source": [
        "3.2 Train and evaluate each model using appropriate evaluation metrics:"
      ],
      "metadata": {
        "id": "ktp8vNYnR-2w"
      }
    },
    {
      "cell_type": "code",
      "source": [
        "from sklearn.metrics import mean_absolute_error, mean_squared_error, r2_score\n",
        "\n",
        "# Initialize the models\n",
        "models = {\n",
        "    \"Linear Regression\": LinearRegression(),\n",
        "    \"Decision Tree\": DecisionTreeRegressor(),\n",
        "    \"Random Forest\": RandomForestRegressor()\n",
        "}\n",
        "\n",
        "# Train and evaluate each model\n",
        "for name, model in models.items():\n",
        "    model.fit(X_train, y_train)\n",
        "    y_pred = model.predict(X_test)\n",
        "\n",
        "    # Evaluate the model\n",
        "    mae = mean_absolute_error(y_test, y_pred)\n",
        "    rmse = mean_squared_error(y_test, y_pred, squared=False)\n",
        "    r2 = r2_score(y_test, y_pred)\n",
        "\n",
        "    print(f\"{name} Metrics:\")\n",
        "    print(f\"Mean Absolute Error: {mae}\")\n",
        "    print(f\"Root Mean Squared Error: {rmse}\")\n",
        "    print(f\"R-squared: {r2}\")\n",
        "    print(\"\\n\")"
      ],
      "metadata": {
        "id": "j-0N7PDxSDfV",
        "colab": {
          "base_uri": "https://localhost:8080/"
        },
        "outputId": "17f1474c-c5b5-42da-9986-dd3f7e3e247b"
      },
      "execution_count": null,
      "outputs": [
        {
          "output_type": "stream",
          "name": "stdout",
          "text": [
            "Linear Regression Metrics:\n",
            "Mean Absolute Error: 8858.885607471679\n",
            "Root Mean Squared Error: 10688.832289699636\n",
            "R-squared: 0.8061565137761029\n",
            "\n",
            "\n",
            "Decision Tree Metrics:\n",
            "Mean Absolute Error: 16734.615384615383\n",
            "Root Mean Squared Error: 21179.207873616193\n",
            "R-squared: 0.2389553944552626\n",
            "\n",
            "\n",
            "Random Forest Metrics:\n",
            "Mean Absolute Error: 9981.23076923077\n",
            "Root Mean Squared Error: 13467.03160142747\n",
            "R-squared: 0.6922950771251375\n",
            "\n",
            "\n"
          ]
        }
      ]
    },
    {
      "cell_type": "markdown",
      "source": [
        "3.3 Implement hyperparameter tuning for one of the models:"
      ],
      "metadata": {
        "id": "CSD18BAwSHcV"
      }
    },
    {
      "cell_type": "code",
      "source": [
        "from sklearn.model_selection import GridSearchCV\n",
        "\n",
        "# Define hyperparameters to search\n",
        "param_grid = {\n",
        "    'n_estimators': [100, 200, 300],\n",
        "    'max_depth': [None, 10, 20, 30],\n",
        "    'min_samples_split': [2, 5, 10],\n",
        "    'min_samples_leaf': [1, 2, 4]\n",
        "}\n",
        "\n",
        "# Create a GridSearchCV object\n",
        "grid_search = GridSearchCV(RandomForestRegressor(), param_grid, cv=5, n_jobs=-1)\n",
        "\n",
        "# Fit the GridSearchCV object to the data\n",
        "grid_search.fit(X_train, y_train)\n",
        "\n",
        "# Get the best hyperparameters\n",
        "best_params = grid_search.best_params_\n",
        "print(\"Best Hyperparameters:\", best_params)\n",
        "\n",
        "# Evaluate the model with the best hyperparameters\n",
        "best_rf_model = grid_search.best_estimator_\n",
        "y_pred_best = best_rf_model.predict(X_test)"
      ],
      "metadata": {
        "colab": {
          "base_uri": "https://localhost:8080/"
        },
        "id": "0doaGnPQSMu6",
        "outputId": "0a941a34-f8e7-4cb1-c3f6-3bb95f692dac"
      },
      "execution_count": null,
      "outputs": [
        {
          "output_type": "stream",
          "name": "stdout",
          "text": [
            "Best Hyperparameters: {'max_depth': None, 'min_samples_leaf': 1, 'min_samples_split': 2, 'n_estimators': 100}\n"
          ]
        }
      ]
    },
    {
      "cell_type": "markdown",
      "source": [
        "3.5 Visualize the predictions of the selected model against the actual house prices:"
      ],
      "metadata": {
        "id": "BfBkCrEVS3hB"
      }
    },
    {
      "cell_type": "code",
      "source": [
        "# Visualize the predictions of the selected model\n",
        "plt.scatter(y_test, y_pred_best)\n",
        "plt.xlabel('Actual House Prices')\n",
        "plt.ylabel('Predicted House Prices')\n",
        "plt.title('Actual vs. Predicted House Prices (Random Forest)')\n",
        "plt.show()\n"
      ],
      "metadata": {
        "colab": {
          "base_uri": "https://localhost:8080/",
          "height": 472
        },
        "id": "98wICyHISyWe",
        "outputId": "5dd1ed90-0700-41d5-f287-4a3a790f9b14"
      },
      "execution_count": null,
      "outputs": [
        {
          "output_type": "display_data",
          "data": {
            "text/plain": [
              "<Figure size 640x480 with 1 Axes>"
            ],
            "image/png": "[encoded data removed]"
          },
          "metadata": {}
        }
      ]
    },
    {
      "cell_type": "markdown",
      "source": [
        "*************************************************************\n",
        "# Model Interpretability\n",
        "*************************************************************"
      ],
      "metadata": {
        "id": "wh1tpxdQTN6T"
      }
    },
    {
      "cell_type": "markdown",
      "source": [
        "4.1 Use model interpretability techniques:\n",
        "Feature Importance (for Random Forest):\n",
        "\n"
      ],
      "metadata": {
        "id": "fr5p6XXSTXAQ"
      }
    },
    {
      "cell_type": "code",
      "source": [
        "# Get feature importances from the Random Forest model\n",
        "feature_importances = best_rf_model.feature_importances_\n",
        "\n",
        "# Create a DataFrame to visualize feature importances\n",
        "importance_df = pd.DataFrame({'Feature': X.columns, 'Importance': feature_importances})\n",
        "importance_df = importance_df.sort_values(by='Importance', ascending=False)\n",
        "\n",
        "# Visualize feature importances\n",
        "plt.figure(figsize=(10, 6))\n",
        "plt.barh(importance_df['Feature'], importance_df['Importance'])\n",
        "plt.xlabel('Importance')\n",
        "plt.ylabel('Feature')\n",
        "plt.title('Feature Importance (Random Forest)')\n",
        "plt.show()"
      ],
      "metadata": {
        "colab": {
          "base_uri": "https://localhost:8080/",
          "height": 549
        },
        "id": "Pn5QJ1BwThPH",
        "outputId": "f8b0bd03-279f-4748-aacb-de40915a38a9"
      },
      "execution_count": null,
      "outputs": [
        {
          "output_type": "display_data",
          "data": {
            "text/plain": [
              "<Figure size 1000x600 with 1 Axes>"
            ],
            "image/png": "[encoded data removed]"
          },
          "metadata": {}
        }
      ]
    },
    {
      "cell_type": "markdown",
      "source": [
        "4.2 observing the above visualisation the insights are that according to the model, features like neighnorhood_west and Sqft have the most impact on the houseprices."
      ],
      "metadata": {
        "id": "V7wc4cS7hRms"
      }
    }
  ]
}